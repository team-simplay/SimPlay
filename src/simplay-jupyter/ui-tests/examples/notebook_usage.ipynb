{
 "cells": [
  {
   "cell_type": "code",
   "execution_count": 2,
   "id": "10829f50-14ab-4d82-8454-a81a99c810fa",
   "metadata": {},
   "outputs": [
    {
     "data": {
      "application/simplay+json": {
       "entities": [
        {
         "id": "Car 0",
         "tint": 1867825.2667952755,
         "type": "process",
         "visual": "CAR"
        },
        {
         "id": "Car 1",
         "tint": 300000.2667952755,
         "type": "process",
         "visual": "CAR"
        }
       ],
       "events": [
        {
         "action": "SET_POSITION",
         "args": {
          "x": 1,
          "y": 1
         },
         "forId": "Car 0",
         "timestamp": 0
        },
        {
         "action": "SET_VISIBLE",
         "args": {
          "visible": true
         },
         "forId": "Car 0",
         "timestamp": 0
        },
        {
         "action": "SET_POSITION",
         "args": {
          "x": 1,
          "y": 1
         },
         "forId": "Car 0",
         "timestamp": 3
        },
        {
         "action": "SET_POSITION",
         "args": {
          "x": 60,
          "y": 60
         },
         "forId": "Car 0",
         "timestamp": 5
        },
        {
         "action": "SET_POSITION",
         "args": {
          "x": 280,
          "y": 280
         },
         "forId": "Car 1",
         "timestamp": 9
        },
        {
         "action": "SET_VISIBLE",
         "args": {
          "visible": true
         },
         "forId": "Car 1",
         "timestamp": 9
        },
        {
         "action": "SET_POSITION",
         "args": {
          "x": 50,
          "y": 50
         },
         "forId": "Car 0",
         "timestamp": 12
        },
        {
         "action": "SET_POSITION",
         "args": {
          "x": 260,
          "y": 260
         },
         "forId": "Car 1",
         "timestamp": 14
        },
        {
         "action": "SET_POSITION",
         "args": {
          "x": 70,
          "y": 70
         },
         "forId": "Car 0",
         "timestamp": 16
        },
        {
         "action": "SET_POSITION",
         "args": {
          "x": 240,
          "y": 240
         },
         "forId": "Car 1",
         "timestamp": 19
        }
       ],
       "grid": {
        "areas": [
         {
          "color": 16333215,
          "gridDefinition": {
           "height": 2,
           "width": 2,
           "x": 1,
           "y": 1
          },
          "id": "gasstation01",
          "name": "GAS_STATION"
         }
        ],
        "cols": 5,
        "rows": 5
       },
       "visuals": [
        {
         "frames": [
          "./resources/car.png"
         ],
         "id": "CAR"
        },
        {
         "frames": [
          "./resources/truck.png"
         ],
         "id": "TANK_TRUCK"
        },
        {
         "frames": [
          "./resources/gaspump.png"
         ],
         "id": "GAS_STATION"
        },
        {
         "frames": [
          "./resources/pump.png"
         ],
         "id": "FUEL_PUMP"
        }
       ]
      }
     },
     "metadata": {},
     "output_type": "display_data"
    }
   ],
   "source": [
    "\n",
    "from IPython.display import display\n",
    "\n",
    "display({\n",
    "    \"application/simplay+json\": {\n",
    "  \"events\": [{\n",
    "      \"action\": \"SET_POSITION\",\n",
    "      \"args\": {\n",
    "        \"x\": 1,\n",
    "        \"y\": 1\n",
    "      },\n",
    "      \"forId\": \"Car 0\",\n",
    "      \"timestamp\": 0\n",
    "    },\n",
    "    {\n",
    "      \"action\": \"SET_VISIBLE\",\n",
    "      \"args\": {\n",
    "        \"visible\": True\n",
    "      },\n",
    "      \"forId\": \"Car 0\",\n",
    "      \"timestamp\": 0\n",
    "    },\n",
    "    {\n",
    "      \"action\": \"SET_POSITION\",\n",
    "      \"args\": {\n",
    "        \"x\": 1,\n",
    "        \"y\": 1\n",
    "      },\n",
    "      \"forId\": \"Car 0\",\n",
    "      \"timestamp\": 3\n",
    "    },\n",
    "    {\n",
    "      \"action\": \"SET_POSITION\",\n",
    "      \"args\": {\n",
    "        \"x\": 60,\n",
    "        \"y\": 60\n",
    "      },\n",
    "      \"forId\": \"Car 0\",\n",
    "      \"timestamp\": 5\n",
    "    },\n",
    "    {\n",
    "      \"action\": \"SET_POSITION\",\n",
    "      \"args\": {\n",
    "        \"x\": 280,\n",
    "        \"y\": 280\n",
    "      },\n",
    "      \"forId\": \"Car 1\",\n",
    "      \"timestamp\": 9\n",
    "    },\n",
    "    {\n",
    "      \"action\": \"SET_VISIBLE\",\n",
    "      \"args\": {\n",
    "        \"visible\": True\n",
    "      },\n",
    "      \"forId\": \"Car 1\",\n",
    "      \"timestamp\": 9\n",
    "    },\n",
    "    {\n",
    "      \"action\": \"SET_POSITION\",\n",
    "      \"args\": {\n",
    "        \"x\": 50,\n",
    "        \"y\": 50\n",
    "      },\n",
    "      \"forId\": \"Car 0\",\n",
    "      \"timestamp\": 12\n",
    "    },\n",
    "    {\n",
    "      \"action\": \"SET_POSITION\",\n",
    "      \"args\": {\n",
    "        \"x\": 260,\n",
    "        \"y\": 260\n",
    "      },\n",
    "      \"forId\": \"Car 1\",\n",
    "      \"timestamp\": 14\n",
    "    },\n",
    "    {\n",
    "      \"action\": \"SET_POSITION\",\n",
    "      \"args\": {\n",
    "        \"x\": 70,\n",
    "        \"y\": 70\n",
    "      },\n",
    "      \"forId\": \"Car 0\",\n",
    "      \"timestamp\": 16\n",
    "    },\n",
    "    {\n",
    "      \"action\": \"SET_POSITION\",\n",
    "      \"args\": {\n",
    "        \"x\": 240,\n",
    "        \"y\": 240\n",
    "      },\n",
    "      \"forId\": \"Car 1\",\n",
    "      \"timestamp\": 19\n",
    "    }\n",
    "  ],\n",
    "  \"entities\": [{\n",
    "      \"id\": \"Car 0\",\n",
    "      \"type\": \"process\",\n",
    "      \"visual\": \"CAR\",\n",
    "      \"tint\": 1867825.2667952755\n",
    "    },\n",
    "    {\n",
    "      \"id\": \"Car 1\",\n",
    "      \"type\": \"process\",\n",
    "      \"visual\": \"CAR\",\n",
    "      \"tint\": 300000.2667952755\n",
    "    }\n",
    "  ],\n",
    "  \"visuals\": [{\n",
    "      \"id\": \"CAR\",\n",
    "      \"frames\": [\"./resources/car.png\"]\n",
    "    },\n",
    "    {\n",
    "      \"id\": \"TANK_TRUCK\",\n",
    "      \"frames\": [\"./resources/truck.png\"]\n",
    "    },\n",
    "    {\n",
    "      \"id\": \"GAS_STATION\",\n",
    "      \"frames\": [\"./resources/gaspump.png\"]\n",
    "    },\n",
    "    {\n",
    "      \"id\": \"FUEL_PUMP\",\n",
    "      \"frames\": [\"./resources/pump.png\"]\n",
    "    }\n",
    "  ],\n",
    "  \"grid\": {\n",
    "    \"areas\": [{\n",
    "      \"id\": \"gasstation01\",\n",
    "      \"name\": \"GAS_STATION\",\n",
    "      \"color\": 16333215,\n",
    "      \"gridDefinition\": {\n",
    "        \"height\": 2,\n",
    "        \"width\": 2,\n",
    "        \"x\": 1,\n",
    "        \"y\": 1\n",
    "      }\n",
    "    }],\n",
    "    \"cols\": 5,\n",
    "    \"rows\": 5\n",
    "  }\n",
    "}\n",
    "}, raw=True)"
   ]
  },
  {
   "cell_type": "code",
   "execution_count": null,
   "id": "86ba0c09-2944-4ab4-808d-576fc3d76f2b",
   "metadata": {},
   "outputs": [],
   "source": []
  }
 ],
 "metadata": {
  "kernelspec": {
   "display_name": "Python 3 (ipykernel)",
   "language": "python",
   "name": "python3"
  },
  "language_info": {
   "codemirror_mode": {
    "name": "ipython",
    "version": 3
   },
   "file_extension": ".py",
   "mimetype": "text/x-python",
   "name": "python",
   "nbconvert_exporter": "python",
   "pygments_lexer": "ipython3",
   "version": "3.9.5"
  }
 },
 "nbformat": 4,
 "nbformat_minor": 5
}
