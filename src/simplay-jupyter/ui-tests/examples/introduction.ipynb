{
 "cells": [
  {
   "cell_type": "markdown",
   "metadata": {},
   "source": [
    "# Introduction"
   ]
  },
  {
   "cell_type": "code",
   "execution_count": 1,
   "metadata": {},
   "outputs": [],
   "source": [
    "import simplay_jupyter"
   ]
  },
  {
   "cell_type": "code",
   "execution_count": 1,
   "metadata": {},
   "outputs": [
    {
     "ename": "ImportError",
     "evalue": "cannot import name 'VisualEnvironment' from 'simplay' (c:\\tools\\miniconda3\\lib\\site-packages\\simplay\\__init__.py)",
     "output_type": "error",
     "traceback": [
      "\u001b[1;31m---------------------------------------------------------------------------\u001b[0m",
      "\u001b[1;31mImportError\u001b[0m                               Traceback (most recent call last)",
      "\u001b[1;32m~\\AppData\\Local\\Temp/ipykernel_4004/4252064973.py\u001b[0m in \u001b[0;36m<module>\u001b[1;34m\u001b[0m\n\u001b[1;32m----> 1\u001b[1;33m \u001b[1;32mfrom\u001b[0m \u001b[0msimplay\u001b[0m \u001b[1;32mimport\u001b[0m \u001b[0mVisualEnvironment\u001b[0m\u001b[1;33m,\u001b[0m \u001b[0mVisualResource\u001b[0m\u001b[1;33m,\u001b[0m \u001b[0mVisualProcess\u001b[0m\u001b[1;33m,\u001b[0m \u001b[0mVisualGrid\u001b[0m\u001b[1;33m,\u001b[0m \u001b[0mBasicVisualUtil\u001b[0m\u001b[1;33m\u001b[0m\u001b[1;33m\u001b[0m\u001b[0m\n\u001b[0m\u001b[0;32m      2\u001b[0m \u001b[1;33m\u001b[0m\u001b[0m\n\u001b[0;32m      3\u001b[0m \u001b[1;32mclass\u001b[0m \u001b[0mSampleProcess\u001b[0m\u001b[1;33m(\u001b[0m\u001b[0mVisualProcess\u001b[0m\u001b[1;33m)\u001b[0m\u001b[1;33m:\u001b[0m\u001b[1;33m\u001b[0m\u001b[1;33m\u001b[0m\u001b[0m\n\u001b[0;32m      4\u001b[0m     \u001b[1;32mdef\u001b[0m \u001b[0m__init__\u001b[0m\u001b[1;33m(\u001b[0m\u001b[0mself\u001b[0m\u001b[1;33m,\u001b[0m \u001b[0menv\u001b[0m\u001b[1;33m,\u001b[0m \u001b[0mid\u001b[0m\u001b[1;33m,\u001b[0m \u001b[0mresource\u001b[0m\u001b[1;33m)\u001b[0m\u001b[1;33m:\u001b[0m\u001b[1;33m\u001b[0m\u001b[1;33m\u001b[0m\u001b[0m\n\u001b[0;32m      5\u001b[0m         \u001b[0msuper\u001b[0m\u001b[1;33m(\u001b[0m\u001b[1;33m)\u001b[0m\u001b[1;33m.\u001b[0m\u001b[0m__init__\u001b[0m\u001b[1;33m(\u001b[0m\u001b[0menv\u001b[0m\u001b[1;33m,\u001b[0m \u001b[0mname\u001b[0m\u001b[1;33m,\u001b[0m \u001b[0mid\u001b[0m\u001b[1;33m,\u001b[0m \u001b[1;34m\"SAMPLE_PROCESS\"\u001b[0m\u001b[1;33m)\u001b[0m\u001b[1;33m\u001b[0m\u001b[1;33m\u001b[0m\u001b[0m\n",
      "\u001b[1;31mImportError\u001b[0m: cannot import name 'VisualEnvironment' from 'simplay' (c:\\tools\\miniconda3\\lib\\site-packages\\simplay\\__init__.py)"
     ]
    }
   ],
   "source": [
    "from simplay import VisualEnvironment, VisualResource, VisualProcess, VisualGrid\n",
    "\n",
    "class SampleProcess(VisualProcess):\n",
    "    def __init__(self, env, id, resource):\n",
    "        super().__init__(env, id, \"SAMPLE_PROCESS\")\n",
    "        self.resource = resource\n",
    "\n",
    "    def run(self):\n",
    "        self.is_visible()\n",
    "        self.is_at(2, 1)\n",
    "        # ...\n",
    "        with self.resource.request() as req:\n",
    "            yield req\n",
    "            self.is_interacting_with(self.resource)\n",
    "            self.is_near(self.resource)\n",
    "            # ...\n",
    "            self.is_no_longer_interacting_with(self.resource)\n",
    "            self.is_near_point(2, 1)\n",
    "\n",
    "class SampleResource(VisualResource):\n",
    "    def __init__(self, env, id, capacity):\n",
    "        super().__init__(env, id, \"SAMPLE_RESOURCE\", capacity)\n",
    "        self.capacity = capacity\n",
    "\n",
    "\n",
    "env = VisualEnvironment()\n",
    "env.visualization_manager.register_visual(\"SAMPLE_PROCESS\", \"process.png\")\n",
    "env.visualization_manager.register_visual(\"SAMPLE_RESOURCE\", \"resource.png\")\n",
    "grid = VisualGrid(10, 10, 5, 5)\n",
    "grid.set_area(\"AREA_1\", \"Area 1\", 2, 2, 0, 0, 0x00FF00)\n",
    "grid.set_area(\"AREA_2\", \"Area 2\", 2, 2, 2, 0, 0xFF0000)\n",
    "env.visualization_manager.set_grid(grid)\n",
    "sample_resource = SampleResource(env, \"SAMPLE_RESOURCE_1\", 10)\n",
    "sample_process = SampleProcess(env, \"SAMPLE_PROCESS_1\", sample_resource)\n",
    "env.process(sample_process)\n",
    "env.run(until=100)\n",
    "env.visualization_manager.write_to_file(\"output.json\")\n",
    "\n"
   ]
  },
  {
   "cell_type": "code",
   "execution_count": null,
   "metadata": {},
   "outputs": [],
   "source": []
  }
 ],
 "metadata": {
  "kernelspec": {
   "display_name": "Python 3 (ipykernel)",
   "language": "python",
   "name": "python3"
  },
  "language_info": {
   "codemirror_mode": {
    "name": "ipython",
    "version": 3
   },
   "file_extension": ".py",
   "mimetype": "text/x-python",
   "name": "python",
   "nbconvert_exporter": "python",
   "pygments_lexer": "ipython3",
   "version": "3.9.5"
  },
  "vscode": {
   "interpreter": {
    "hash": "3247f7d4635bb288d9e06d3deacee818856115b2677ccfdf5a578edab993fe5f"
   }
  }
 },
 "nbformat": 4,
 "nbformat_minor": 4
}
